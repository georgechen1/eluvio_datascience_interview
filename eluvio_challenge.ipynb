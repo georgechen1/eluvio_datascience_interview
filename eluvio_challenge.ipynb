{
 "cells": [
  {
   "cell_type": "markdown",
   "metadata": {},
   "source": [
    "# George Chen"
   ]
  },
  {
   "cell_type": "code",
   "execution_count": 1,
   "metadata": {},
   "outputs": [
    {
     "name": "stdout",
     "output_type": "stream",
     "text": [
      "Collecting nltk\n",
      "Requirement already satisfied: six in /srv/conda/envs/data102/lib/python3.7/site-packages (from nltk) (1.12.0)\n",
      "Installing collected packages: nltk\n",
      "Successfully installed nltk-3.4.5\n"
     ]
    }
   ],
   "source": [
    "import pandas as pd\n",
    "import numpy as np\n",
    "import matplotlib.pyplot as plt\n",
    "import seaborn as sns\n",
    "!pip install nltk\n",
    "import nltk"
   ]
  },
  {
   "cell_type": "code",
   "execution_count": 2,
   "metadata": {},
   "outputs": [],
   "source": [
    "df = pd.read_csv(\"Eluvio_DS_Challenge.csv\")"
   ]
  },
  {
   "cell_type": "markdown",
   "metadata": {},
   "source": [
    "# Data Exploration"
   ]
  },
  {
   "cell_type": "code",
   "execution_count": 51,
   "metadata": {},
   "outputs": [
    {
     "data": {
      "text/html": [
       "<div>\n",
       "<style scoped>\n",
       "    .dataframe tbody tr th:only-of-type {\n",
       "        vertical-align: middle;\n",
       "    }\n",
       "\n",
       "    .dataframe tbody tr th {\n",
       "        vertical-align: top;\n",
       "    }\n",
       "\n",
       "    .dataframe thead th {\n",
       "        text-align: right;\n",
       "    }\n",
       "</style>\n",
       "<table border=\"1\" class=\"dataframe\">\n",
       "  <thead>\n",
       "    <tr style=\"text-align: right;\">\n",
       "      <th></th>\n",
       "      <th>time_created</th>\n",
       "      <th>date_created</th>\n",
       "      <th>up_votes</th>\n",
       "      <th>down_votes</th>\n",
       "      <th>title</th>\n",
       "      <th>over_18</th>\n",
       "      <th>author</th>\n",
       "      <th>category</th>\n",
       "      <th>datetime_created</th>\n",
       "      <th>creation_year</th>\n",
       "      <th>creation_month</th>\n",
       "      <th>creation_day</th>\n",
       "      <th>creation_hour</th>\n",
       "      <th>creation_minute</th>\n",
       "      <th>creation_second</th>\n",
       "    </tr>\n",
       "  </thead>\n",
       "  <tbody>\n",
       "    <tr>\n",
       "      <th>0</th>\n",
       "      <td>1201232046</td>\n",
       "      <td>2008-01-25</td>\n",
       "      <td>3</td>\n",
       "      <td>0</td>\n",
       "      <td>Scores killed in Pakistan clashes</td>\n",
       "      <td>False</td>\n",
       "      <td>polar</td>\n",
       "      <td>worldnews</td>\n",
       "      <td>2008-01-25 03:34:06</td>\n",
       "      <td>2008</td>\n",
       "      <td>1</td>\n",
       "      <td>25</td>\n",
       "      <td>3</td>\n",
       "      <td>34</td>\n",
       "      <td>6</td>\n",
       "    </tr>\n",
       "    <tr>\n",
       "      <th>1</th>\n",
       "      <td>1201232075</td>\n",
       "      <td>2008-01-25</td>\n",
       "      <td>2</td>\n",
       "      <td>0</td>\n",
       "      <td>Japan resumes refuelling mission</td>\n",
       "      <td>False</td>\n",
       "      <td>polar</td>\n",
       "      <td>worldnews</td>\n",
       "      <td>2008-01-25 03:34:35</td>\n",
       "      <td>2008</td>\n",
       "      <td>1</td>\n",
       "      <td>25</td>\n",
       "      <td>3</td>\n",
       "      <td>34</td>\n",
       "      <td>35</td>\n",
       "    </tr>\n",
       "    <tr>\n",
       "      <th>2</th>\n",
       "      <td>1201232523</td>\n",
       "      <td>2008-01-25</td>\n",
       "      <td>3</td>\n",
       "      <td>0</td>\n",
       "      <td>US presses Egypt on Gaza border</td>\n",
       "      <td>False</td>\n",
       "      <td>polar</td>\n",
       "      <td>worldnews</td>\n",
       "      <td>2008-01-25 03:42:03</td>\n",
       "      <td>2008</td>\n",
       "      <td>1</td>\n",
       "      <td>25</td>\n",
       "      <td>3</td>\n",
       "      <td>42</td>\n",
       "      <td>3</td>\n",
       "    </tr>\n",
       "    <tr>\n",
       "      <th>3</th>\n",
       "      <td>1201233290</td>\n",
       "      <td>2008-01-25</td>\n",
       "      <td>1</td>\n",
       "      <td>0</td>\n",
       "      <td>Jump-start economy: Give health care to all</td>\n",
       "      <td>False</td>\n",
       "      <td>fadi420</td>\n",
       "      <td>worldnews</td>\n",
       "      <td>2008-01-25 03:54:50</td>\n",
       "      <td>2008</td>\n",
       "      <td>1</td>\n",
       "      <td>25</td>\n",
       "      <td>3</td>\n",
       "      <td>54</td>\n",
       "      <td>50</td>\n",
       "    </tr>\n",
       "    <tr>\n",
       "      <th>4</th>\n",
       "      <td>1201274720</td>\n",
       "      <td>2008-01-25</td>\n",
       "      <td>4</td>\n",
       "      <td>0</td>\n",
       "      <td>Council of Europe bashes EU&amp;UN terror blacklist</td>\n",
       "      <td>False</td>\n",
       "      <td>mhermans</td>\n",
       "      <td>worldnews</td>\n",
       "      <td>2008-01-25 15:25:20</td>\n",
       "      <td>2008</td>\n",
       "      <td>1</td>\n",
       "      <td>25</td>\n",
       "      <td>15</td>\n",
       "      <td>25</td>\n",
       "      <td>20</td>\n",
       "    </tr>\n",
       "  </tbody>\n",
       "</table>\n",
       "</div>"
      ],
      "text/plain": [
       "   time_created date_created  up_votes  down_votes  \\\n",
       "0    1201232046   2008-01-25         3           0   \n",
       "1    1201232075   2008-01-25         2           0   \n",
       "2    1201232523   2008-01-25         3           0   \n",
       "3    1201233290   2008-01-25         1           0   \n",
       "4    1201274720   2008-01-25         4           0   \n",
       "\n",
       "                                             title  over_18    author  \\\n",
       "0                Scores killed in Pakistan clashes    False     polar   \n",
       "1                 Japan resumes refuelling mission    False     polar   \n",
       "2                  US presses Egypt on Gaza border    False     polar   \n",
       "3     Jump-start economy: Give health care to all     False   fadi420   \n",
       "4  Council of Europe bashes EU&UN terror blacklist    False  mhermans   \n",
       "\n",
       "    category    datetime_created  creation_year  creation_month  creation_day  \\\n",
       "0  worldnews 2008-01-25 03:34:06           2008               1            25   \n",
       "1  worldnews 2008-01-25 03:34:35           2008               1            25   \n",
       "2  worldnews 2008-01-25 03:42:03           2008               1            25   \n",
       "3  worldnews 2008-01-25 03:54:50           2008               1            25   \n",
       "4  worldnews 2008-01-25 15:25:20           2008               1            25   \n",
       "\n",
       "   creation_hour  creation_minute  creation_second  \n",
       "0              3               34                6  \n",
       "1              3               34               35  \n",
       "2              3               42                3  \n",
       "3              3               54               50  \n",
       "4             15               25               20  "
      ]
     },
     "execution_count": 51,
     "metadata": {},
     "output_type": "execute_result"
    }
   ],
   "source": [
    "df.head()"
   ]
  },
  {
   "cell_type": "code",
   "execution_count": 54,
   "metadata": {},
   "outputs": [
    {
     "data": {
      "text/plain": [
       "array([   3,    2,    1, ..., 2321, 6824, 3360])"
      ]
     },
     "execution_count": 54,
     "metadata": {},
     "output_type": "execute_result"
    }
   ],
   "source": [
    "#predict up_votes? How many? Or downvotes?\n",
    "df['up_votes'].unique()"
   ]
  },
  {
   "cell_type": "code",
   "execution_count": 53,
   "metadata": {
    "scrolled": true
   },
   "outputs": [
    {
     "data": {
      "text/plain": [
       "array([0])"
      ]
     },
     "execution_count": 53,
     "metadata": {},
     "output_type": "execute_result"
    }
   ],
   "source": [
    "df['down_votes'].unique()"
   ]
  },
  {
   "cell_type": "code",
   "execution_count": 11,
   "metadata": {},
   "outputs": [
    {
     "data": {
      "text/plain": [
       "time_created    0\n",
       "date_created    0\n",
       "up_votes        0\n",
       "down_votes      0\n",
       "title           0\n",
       "over_18         0\n",
       "author          0\n",
       "category        0\n",
       "dtype: int64"
      ]
     },
     "execution_count": 11,
     "metadata": {},
     "output_type": "execute_result"
    }
   ],
   "source": [
    "#nulls?\n",
    "df.isnull().sum()"
   ]
  },
  {
   "cell_type": "code",
   "execution_count": 16,
   "metadata": {
    "scrolled": true
   },
   "outputs": [
    {
     "data": {
      "text/plain": [
       "time_created     int64\n",
       "date_created    object\n",
       "up_votes         int64\n",
       "down_votes       int64\n",
       "title           object\n",
       "over_18           bool\n",
       "author          object\n",
       "category        object\n",
       "dtype: object"
      ]
     },
     "execution_count": 16,
     "metadata": {},
     "output_type": "execute_result"
    }
   ],
   "source": [
    "df.dtypes"
   ]
  },
  {
   "cell_type": "code",
   "execution_count": 55,
   "metadata": {},
   "outputs": [
    {
     "data": {
      "text/plain": [
       "count        509236\n",
       "unique            1\n",
       "top       worldnews\n",
       "freq         509236\n",
       "Name: category, dtype: object"
      ]
     },
     "execution_count": 55,
     "metadata": {},
     "output_type": "execute_result"
    }
   ],
   "source": [
    "df['category'].describe()"
   ]
  },
  {
   "cell_type": "markdown",
   "metadata": {},
   "source": [
    "# Feature Engineering"
   ]
  },
  {
   "cell_type": "markdown",
   "metadata": {},
   "source": [
    "Drop unused columns"
   ]
  },
  {
   "cell_type": "code",
   "execution_count": 9,
   "metadata": {},
   "outputs": [],
   "source": [
    "update_df = df.drop(['date_created','author','category','time_created'], axis = 1)"
   ]
  },
  {
   "cell_type": "code",
   "execution_count": 54,
   "metadata": {},
   "outputs": [
    {
     "data": {
      "text/plain": [
       "count    509236.000000\n",
       "mean        112.236283\n",
       "std         541.694675\n",
       "min           0.000000\n",
       "25%           1.000000\n",
       "50%           5.000000\n",
       "75%          16.000000\n",
       "max       21253.000000\n",
       "Name: up_votes, dtype: float64"
      ]
     },
     "execution_count": 54,
     "metadata": {},
     "output_type": "execute_result"
    }
   ],
   "source": [
    "update_df['up_votes'].describe()"
   ]
  },
  {
   "cell_type": "code",
   "execution_count": 66,
   "metadata": {},
   "outputs": [
    {
     "data": {
      "text/plain": [
       "15"
      ]
     },
     "execution_count": 66,
     "metadata": {},
     "output_type": "execute_result"
    }
   ],
   "source": [
    "np.sum(update_df['up_votes']>10000)"
   ]
  },
  {
   "cell_type": "code",
   "execution_count": 59,
   "metadata": {
    "scrolled": true
   },
   "outputs": [
    {
     "data": {
      "text/plain": [
       "50215"
      ]
     },
     "execution_count": 59,
     "metadata": {},
     "output_type": "execute_result"
    }
   ],
   "source": [
    "np.sum(update_df['up_votes']>100)"
   ]
  },
  {
   "cell_type": "code",
   "execution_count": 60,
   "metadata": {},
   "outputs": [
    {
     "data": {
      "text/plain": [
       "160503"
      ]
     },
     "execution_count": 60,
     "metadata": {},
     "output_type": "execute_result"
    }
   ],
   "source": [
    "np.sum(np.sum(update_df['up_votes']>10))"
   ]
  },
  {
   "cell_type": "code",
   "execution_count": 10,
   "metadata": {},
   "outputs": [],
   "source": [
    "train = update_df[[\"title\",\"up_votes\"]]"
   ]
  },
  {
   "cell_type": "code",
   "execution_count": 11,
   "metadata": {},
   "outputs": [
    {
     "name": "stderr",
     "output_type": "stream",
     "text": [
      "/srv/conda/envs/data102/lib/python3.7/site-packages/pandas/core/indexing.py:480: SettingWithCopyWarning: \n",
      "A value is trying to be set on a copy of a slice from a DataFrame.\n",
      "Try using .loc[row_indexer,col_indexer] = value instead\n",
      "\n",
      "See the caveats in the documentation: http://pandas.pydata.org/pandas-docs/stable/user_guide/indexing.html#returning-a-view-versus-a-copy\n",
      "  self.obj[item] = s\n"
     ]
    }
   ],
   "source": [
    "#change up_votes into two categories\n",
    "train.loc[train[\"up_votes\"] <1000, \"up_votes\"] = 0\n",
    "train.loc[(train[\"up_votes\"] >= 1000) , \"up_votes\"] = 1\n"
   ]
  },
  {
   "cell_type": "code",
   "execution_count": 120,
   "metadata": {},
   "outputs": [],
   "source": [
    "from sklearn.model_selection import train_test_split\n",
    "X_train, X_test, y_train, y_test = train_test_split(\n",
    "    train[\"title\"], train[\"up_votes\"], test_size=0.2, random_state=42)"
   ]
  },
  {
   "cell_type": "code",
   "execution_count": 91,
   "metadata": {},
   "outputs": [],
   "source": [
    "from sklearn.feature_extraction.text import CountVectorizer \n",
    "\n",
    "vectorizer = CountVectorizer(stop_words = \"english\",max_features = 10000)"
   ]
  },
  {
   "cell_type": "code",
   "execution_count": 78,
   "metadata": {},
   "outputs": [],
   "source": [
    "def results(cnf_matrix):\n",
    "    fp= cnf_matrix[1][0]\n",
    "    tp = cnf_matrix[1][1]\n",
    "    tn = cnf_matrix[0][0]\n",
    "    fn = cnf_matrix[0][1]\n",
    "    return {\"precision\" : tp/(tp+fp), \"recall\": tp/(tp+fn) }"
   ]
  },
  {
   "cell_type": "markdown",
   "metadata": {},
   "source": [
    "# Set up pipeline for random forest"
   ]
  },
  {
   "cell_type": "code",
   "execution_count": 118,
   "metadata": {},
   "outputs": [],
   "source": [
    "from sklearn.pipeline import Pipeline\n",
    "from sklearn.compose import ColumnTransformer\n",
    "\n",
    "bow_transformer = Pipeline(steps=[('one hot', vectorizer)])\n",
    "rf = Pipeline(steps=[('preprocessor', vectorizer),\n",
    "                      ('classifier', RandomForestClassifier(n_estimators = 500, max_depth = 8))])"
   ]
  },
  {
   "cell_type": "markdown",
   "metadata": {},
   "source": [
    "# optimize parameters for rf"
   ]
  },
  {
   "cell_type": "code",
   "execution_count": 116,
   "metadata": {},
   "outputs": [
    {
     "name": "stderr",
     "output_type": "stream",
     "text": [
      "/srv/conda/envs/data102/lib/python3.7/site-packages/sklearn/model_selection/_split.py:1978: FutureWarning: The default value of cv will change from 3 to 5 in version 0.22. Specify it explicitly to silence this warning.\n",
      "  warnings.warn(CV_WARNING, FutureWarning)\n"
     ]
    },
    {
     "name": "stdout",
     "output_type": "stream",
     "text": [
      "Fitting 3 folds for each of 10 candidates, totalling 30 fits\n"
     ]
    },
    {
     "name": "stderr",
     "output_type": "stream",
     "text": [
      "[Parallel(n_jobs=1)]: Using backend SequentialBackend with 1 concurrent workers.\n"
     ]
    },
    {
     "name": "stdout",
     "output_type": "stream",
     "text": [
      "[CV] classifier__max_depth=4, classifier__n_estimators=200 ...........\n",
      "[CV]  classifier__max_depth=4, classifier__n_estimators=200, score=0.643, total=  51.7s\n",
      "[CV] classifier__max_depth=4, classifier__n_estimators=200 ...........\n"
     ]
    },
    {
     "name": "stderr",
     "output_type": "stream",
     "text": [
      "[Parallel(n_jobs=1)]: Done   1 out of   1 | elapsed:   51.8s remaining:    0.0s\n"
     ]
    },
    {
     "name": "stdout",
     "output_type": "stream",
     "text": [
      "[CV]  classifier__max_depth=4, classifier__n_estimators=200, score=0.650, total=  52.9s\n",
      "[CV] classifier__max_depth=4, classifier__n_estimators=200 ...........\n"
     ]
    },
    {
     "name": "stderr",
     "output_type": "stream",
     "text": [
      "[Parallel(n_jobs=1)]: Done   2 out of   2 | elapsed:  1.7min remaining:    0.0s\n"
     ]
    },
    {
     "name": "stdout",
     "output_type": "stream",
     "text": [
      "[CV]  classifier__max_depth=4, classifier__n_estimators=200, score=0.651, total=  58.3s\n",
      "[CV] classifier__max_depth=4, classifier__n_estimators=500 ...........\n"
     ]
    },
    {
     "name": "stderr",
     "output_type": "stream",
     "text": [
      "[Parallel(n_jobs=1)]: Done   3 out of   3 | elapsed:  2.7min remaining:    0.0s\n"
     ]
    },
    {
     "name": "stdout",
     "output_type": "stream",
     "text": [
      "[CV]  classifier__max_depth=4, classifier__n_estimators=500, score=0.649, total= 1.7min\n",
      "[CV] classifier__max_depth=4, classifier__n_estimators=500 ...........\n"
     ]
    },
    {
     "name": "stderr",
     "output_type": "stream",
     "text": [
      "[Parallel(n_jobs=1)]: Done   4 out of   4 | elapsed:  4.4min remaining:    0.0s\n"
     ]
    },
    {
     "name": "stdout",
     "output_type": "stream",
     "text": [
      "[CV]  classifier__max_depth=4, classifier__n_estimators=500, score=0.648, total= 1.7min\n",
      "[CV] classifier__max_depth=4, classifier__n_estimators=500 ...........\n"
     ]
    },
    {
     "name": "stderr",
     "output_type": "stream",
     "text": [
      "[Parallel(n_jobs=1)]: Done   5 out of   5 | elapsed:  6.1min remaining:    0.0s\n"
     ]
    },
    {
     "name": "stdout",
     "output_type": "stream",
     "text": [
      "[CV]  classifier__max_depth=4, classifier__n_estimators=500, score=0.650, total= 1.8min\n",
      "[CV] classifier__max_depth=5, classifier__n_estimators=200 ...........\n"
     ]
    },
    {
     "name": "stderr",
     "output_type": "stream",
     "text": [
      "[Parallel(n_jobs=1)]: Done   6 out of   6 | elapsed:  7.9min remaining:    0.0s\n"
     ]
    },
    {
     "name": "stdout",
     "output_type": "stream",
     "text": [
      "[CV]  classifier__max_depth=5, classifier__n_estimators=200, score=0.649, total=  54.8s\n",
      "[CV] classifier__max_depth=5, classifier__n_estimators=200 ...........\n"
     ]
    },
    {
     "name": "stderr",
     "output_type": "stream",
     "text": [
      "[Parallel(n_jobs=1)]: Done   7 out of   7 | elapsed:  8.8min remaining:    0.0s\n"
     ]
    },
    {
     "name": "stdout",
     "output_type": "stream",
     "text": [
      "[CV]  classifier__max_depth=5, classifier__n_estimators=200, score=0.647, total=  57.2s\n"
     ]
    },
    {
     "name": "stderr",
     "output_type": "stream",
     "text": [
      "[Parallel(n_jobs=1)]: Done   8 out of   8 | elapsed:  9.8min remaining:    0.0s\n"
     ]
    },
    {
     "name": "stdout",
     "output_type": "stream",
     "text": [
      "[CV] classifier__max_depth=5, classifier__n_estimators=200 ...........\n",
      "[CV]  classifier__max_depth=5, classifier__n_estimators=200, score=0.653, total= 1.0min\n",
      "[CV] classifier__max_depth=5, classifier__n_estimators=500 ...........\n"
     ]
    },
    {
     "name": "stderr",
     "output_type": "stream",
     "text": [
      "[Parallel(n_jobs=1)]: Done   9 out of   9 | elapsed: 10.8min remaining:    0.0s\n"
     ]
    },
    {
     "name": "stdout",
     "output_type": "stream",
     "text": [
      "[CV]  classifier__max_depth=5, classifier__n_estimators=500, score=0.654, total= 1.9min\n",
      "[CV] classifier__max_depth=5, classifier__n_estimators=500 ...........\n",
      "[CV]  classifier__max_depth=5, classifier__n_estimators=500, score=0.649, total= 1.9min\n",
      "[CV] classifier__max_depth=5, classifier__n_estimators=500 ...........\n",
      "[CV]  classifier__max_depth=5, classifier__n_estimators=500, score=0.654, total= 1.9min\n",
      "[CV] classifier__max_depth=6, classifier__n_estimators=200 ...........\n",
      "[CV]  classifier__max_depth=6, classifier__n_estimators=200, score=0.652, total=  57.2s\n",
      "[CV] classifier__max_depth=6, classifier__n_estimators=500 ...........\n",
      "[CV]  classifier__max_depth=6, classifier__n_estimators=500, score=0.654, total= 2.1min\n",
      "[CV] classifier__max_depth=6, classifier__n_estimators=500 ...........\n",
      "[CV]  classifier__max_depth=6, classifier__n_estimators=500, score=0.655, total= 2.1min\n",
      "[CV] classifier__max_depth=6, classifier__n_estimators=500 ...........\n",
      "[CV]  classifier__max_depth=6, classifier__n_estimators=500, score=0.656, total= 2.2min\n",
      "[CV] classifier__max_depth=7, classifier__n_estimators=200 ...........\n",
      "[CV]  classifier__max_depth=7, classifier__n_estimators=200, score=0.655, total= 1.1min\n",
      "[CV] classifier__max_depth=7, classifier__n_estimators=200 ...........\n",
      "[CV]  classifier__max_depth=7, classifier__n_estimators=200, score=0.650, total= 1.1min\n",
      "[CV] classifier__max_depth=7, classifier__n_estimators=200 ...........\n",
      "[CV]  classifier__max_depth=7, classifier__n_estimators=200, score=0.652, total= 1.1min\n",
      "[CV] classifier__max_depth=7, classifier__n_estimators=500 ...........\n",
      "[CV]  classifier__max_depth=7, classifier__n_estimators=500, score=0.659, total= 2.2min\n",
      "[CV] classifier__max_depth=7, classifier__n_estimators=500 ...........\n",
      "[CV]  classifier__max_depth=7, classifier__n_estimators=500, score=0.658, total= 2.4min\n",
      "[CV] classifier__max_depth=7, classifier__n_estimators=500 ...........\n",
      "[CV]  classifier__max_depth=7, classifier__n_estimators=500, score=0.658, total= 2.2min\n",
      "[CV] classifier__max_depth=8, classifier__n_estimators=200 ...........\n",
      "[CV]  classifier__max_depth=8, classifier__n_estimators=200, score=0.659, total= 1.3min\n",
      "[CV] classifier__max_depth=8, classifier__n_estimators=200 ...........\n",
      "[CV]  classifier__max_depth=8, classifier__n_estimators=200, score=0.657, total= 1.4min\n",
      "[CV] classifier__max_depth=8, classifier__n_estimators=200 ...........\n",
      "[CV]  classifier__max_depth=8, classifier__n_estimators=200, score=0.656, total= 1.2min\n",
      "[CV] classifier__max_depth=8, classifier__n_estimators=500 ...........\n",
      "[CV]  classifier__max_depth=8, classifier__n_estimators=500, score=0.661, total= 2.6min\n",
      "[CV] classifier__max_depth=8, classifier__n_estimators=500 ...........\n",
      "[CV]  classifier__max_depth=8, classifier__n_estimators=500, score=0.657, total= 2.5min\n",
      "[CV] classifier__max_depth=8, classifier__n_estimators=500 ...........\n",
      "[CV]  classifier__max_depth=8, classifier__n_estimators=500, score=0.659, total= 2.7min\n"
     ]
    },
    {
     "name": "stderr",
     "output_type": "stream",
     "text": [
      "[Parallel(n_jobs=1)]: Done  30 out of  30 | elapsed: 47.7min finished\n"
     ]
    },
    {
     "name": "stdout",
     "output_type": "stream",
     "text": [
      "{'classifier__max_depth': 8, 'classifier__n_estimators': 500}\n",
      "0.6588521390942091\n"
     ]
    }
   ],
   "source": [
    "param_grid = { \n",
    "    'classifier__n_estimators': [200, 500],\n",
    "    'classifier__max_depth' : [4,5,6,7,8]}\n",
    "from sklearn.model_selection import GridSearchCV\n",
    "CV = GridSearchCV(rf, param_grid, n_jobs= 1, verbose = 10)\n",
    "                  \n",
    "CV.fit(X_train, y_train)\n",
    "print(CV.best_params_)    \n",
    "print(CV.best_score_)"
   ]
  },
  {
   "cell_type": "markdown",
   "metadata": {},
   "source": [
    "# Downsample"
   ]
  },
  {
   "cell_type": "code",
   "execution_count": 68,
   "metadata": {},
   "outputs": [],
   "source": [
    "#downsample\n",
    "def downsample(X_train,y_train):\n",
    "    #returns new X_train, y_train\n",
    "    X = pd.concat([X_train, y_train], axis=1)\n",
    "    small = X[y_train==0]\n",
    "    big = X[y_train==1]\n",
    "\n",
    "    small = small.sample(big.shape[0])\n",
    "    new_X = pd.concat([small, big])\n",
    "\n",
    "    y_train = new_X[\"up_votes\"]\n",
    "    X_train = new_X[\"title\"]"
   ]
  },
  {
   "cell_type": "code",
   "execution_count": 130,
   "metadata": {},
   "outputs": [
    {
     "name": "stderr",
     "output_type": "stream",
     "text": [
      "/srv/conda/envs/data102/lib/python3.7/site-packages/sklearn/linear_model/logistic.py:432: FutureWarning: Default solver will be changed to 'lbfgs' in 0.22. Specify a solver to silence this warning.\n",
      "  FutureWarning)\n"
     ]
    },
    {
     "data": {
      "text/plain": [
       "0.6666797580708507"
      ]
     },
     "execution_count": 130,
     "metadata": {},
     "output_type": "execute_result"
    }
   ],
   "source": [
    "train_vectors = vectorizer.fit_transform(X_train)\n",
    "test_vectors = vectorizer.fit_transform(X_test)\n",
    "\n",
    "from sklearn.linear_model import LogisticRegression\n",
    "lr = LogisticRegression()\n",
    "lr.fit(train_vectors, y_train)\n",
    "lr.score(test_vectors, y_test)"
   ]
  },
  {
   "cell_type": "code",
   "execution_count": 131,
   "metadata": {},
   "outputs": [],
   "source": [
    "#downsample result\n",
    "from sklearn.metrics import confusion_matrix\n",
    "y_pred = lr.predict(test_vectors)\n",
    "cnf_matrix = confusion_matrix(y_test, y_pred)\n",
    "cnf_matrix_percentages = cnf_matrix/np.sum(cnf_matrix)"
   ]
  },
  {
   "cell_type": "code",
   "execution_count": 132,
   "metadata": {},
   "outputs": [
    {
     "data": {
      "text/plain": [
       "[Text(25.5, 0.5, 'actual'),\n",
       " Text(0.5, 7.5, 'predicted'),\n",
       " Text(0.5, 1, 'Heatmap of downsampling classification')]"
      ]
     },
     "execution_count": 132,
     "metadata": {},
     "output_type": "execute_result"
    },
    {
     "data": {
      "image/png": "[encoded data removed]",
      "text/plain": [
       "<Figure size 432x288 with 2 Axes>"
      ]
     },
     "metadata": {},
     "output_type": "display_data"
    }
   ],
   "source": [
    "df_cm = pd.DataFrame(cnf_matrix_percentages, range(2),\n",
    "                  range(2))\n",
    "#plt.figure(figsize = (10,7))\n",
    "sns.set(font_scale=1.4)#for label size\n",
    "ax = sns.heatmap(df_cm, annot=True,annot_kws={\"size\": 16})\n",
    "ax.set(xlabel='predicted', ylabel='actual', title = \"Heatmap of downsampling classification\")\n"
   ]
  },
  {
   "cell_type": "code",
   "execution_count": 79,
   "metadata": {},
   "outputs": [],
   "source": [
    "down_res = results(cnf_matrix)"
   ]
  },
  {
   "cell_type": "code",
   "execution_count": 80,
   "metadata": {},
   "outputs": [
    {
     "data": {
      "text/plain": [
       "{'precision': 0.3766404199475066, 'recall': 0.03816489361702128}"
      ]
     },
     "execution_count": 80,
     "metadata": {},
     "output_type": "execute_result"
    }
   ],
   "source": [
    "down_res"
   ]
  },
  {
   "cell_type": "markdown",
   "metadata": {},
   "source": [
    "# upsample\n"
   ]
  },
  {
   "cell_type": "code",
   "execution_count": 121,
   "metadata": {},
   "outputs": [],
   "source": [
    "# concatenate our training data back together\n",
    "from sklearn.utils import resample\n",
    "X = pd.concat([X_train, y_train], axis=1)\n",
    "\n",
    "# separate minority and majority classes\n",
    "small = X[y_train==0]\n",
    "big = X[y_train==1]\n",
    "\n",
    "upsampled = resample(big,\n",
    "                          replace=True, # sample with replacement\n",
    "                          n_samples=len(small), # match number in majority class\n",
    "                          random_state=27) # reproducible results\n",
    "\n",
    "# combine majority and upsampled minority\n",
    "upsampled = pd.concat([small, upsampled])\n",
    "\n",
    "y_train = upsampled[\"up_votes\"]\n",
    "X_train = upsampled.drop('up_votes', axis=1)[\"title\"]"
   ]
  },
  {
   "cell_type": "code",
   "execution_count": 122,
   "metadata": {
    "scrolled": true
   },
   "outputs": [],
   "source": [
    "train_vectors = vectorizer.fit_transform(X_train)\n",
    "test_vectors = vectorizer.fit_transform(X_test)\n",
    "\n",
    "from sklearn.linear_model import LogisticRegression\n",
    "lr = LogisticRegression()\n",
    "lr.fit(train_vectors, y_train)\n",
    "lr.score(test_vectors, y_test)"
   ]
  },
  {
   "cell_type": "code",
   "execution_count": null,
   "metadata": {},
   "outputs": [],
   "source": [
    "#upsample result\n",
    "from sklearn.metrics import confusion_matrix\n",
    "y_pred = lr.predict(test_vectors)\n",
    "cnf_matrix_up = confusion_matrix(y_test, y_pred)\n",
    "cnf_matrix_percentages = cnf_matrix_up/np.sum(cnf_matrix_up)"
   ]
  },
  {
   "cell_type": "code",
   "execution_count": 84,
   "metadata": {},
   "outputs": [
    {
     "data": {
      "text/plain": [
       "[Text(25.5, 0.5, 'actual'),\n",
       " Text(0.5, 7.5, 'predicted'),\n",
       " Text(0.5, 1, 'Heatmap of upsampling classification')]"
      ]
     },
     "execution_count": 84,
     "metadata": {},
     "output_type": "execute_result"
    },
    {
     "data": {
      "image/png": "[encoded data removed]",
      "text/plain": [
       "<Figure size 432x288 with 2 Axes>"
      ]
     },
     "metadata": {},
     "output_type": "display_data"
    }
   ],
   "source": [
    "df_cm = pd.DataFrame(cnf_matrix_up_percentages, range(2),\n",
    "                  range(2))\n",
    "#plt.figure(figsize = (10,7))\n",
    "sns.set(font_scale=1.4)#for label size\n",
    "ax = sns.heatmap(df_cm, annot=True,annot_kws={\"size\": 16})\n",
    "ax.set(xlabel='predicted', ylabel='actual', title = \"Heatmap of upsampling classification\")\n"
   ]
  },
  {
   "cell_type": "code",
   "execution_count": 85,
   "metadata": {},
   "outputs": [
    {
     "data": {
      "text/plain": [
       "{'precision': 0.3910761154855643, 'recall': 0.037673830594184575}"
      ]
     },
     "execution_count": 85,
     "metadata": {},
     "output_type": "execute_result"
    }
   ],
   "source": [
    "up_res = results(cnf_matrix_up)\n",
    "up_res"
   ]
  },
  {
   "cell_type": "markdown",
   "metadata": {},
   "source": [
    "# RF"
   ]
  },
  {
   "cell_type": "markdown",
   "metadata": {},
   "source": [
    "## upsample"
   ]
  },
  {
   "cell_type": "code",
   "execution_count": 137,
   "metadata": {},
   "outputs": [
    {
     "data": {
      "text/plain": [
       "Pipeline(memory=None,\n",
       "         steps=[('preprocessor',\n",
       "                 CountVectorizer(analyzer='word', binary=False,\n",
       "                                 decode_error='strict',\n",
       "                                 dtype=<class 'numpy.int64'>, encoding='utf-8',\n",
       "                                 input='content', lowercase=True, max_df=1.0,\n",
       "                                 max_features=10000, min_df=1,\n",
       "                                 ngram_range=(1, 1), preprocessor=None,\n",
       "                                 stop_words='english', strip_accents=None,\n",
       "                                 token_pattern='(?u)\\\\b\\\\w\\\\w+\\\\b',\n",
       "                                 tokenizer=None,...\n",
       "                 RandomForestClassifier(bootstrap=True, class_weight=None,\n",
       "                                        criterion='gini', max_depth=8,\n",
       "                                        max_features='auto',\n",
       "                                        max_leaf_nodes=None,\n",
       "                                        min_impurity_decrease=0.0,\n",
       "                                        min_impurity_split=None,\n",
       "                                        min_samples_leaf=1, min_samples_split=2,\n",
       "                                        min_weight_fraction_leaf=0.0,\n",
       "                                        n_estimators=500, n_jobs=None,\n",
       "                                        oob_score=False, random_state=None,\n",
       "                                        verbose=0, warm_start=False))],\n",
       "         verbose=False)"
      ]
     },
     "execution_count": 137,
     "metadata": {},
     "output_type": "execute_result"
    }
   ],
   "source": [
    "rf.fit(X_train, y_train)"
   ]
  },
  {
   "cell_type": "code",
   "execution_count": 138,
   "metadata": {},
   "outputs": [],
   "source": [
    "y_pred = rf.predict(X_test)\n",
    "cnf_matrix = confusion_matrix(y_pred, y_test)"
   ]
  },
  {
   "cell_type": "code",
   "execution_count": 139,
   "metadata": {},
   "outputs": [],
   "source": [
    "#rf result\n",
    "cnf_matrix_percentages = cnf_matrix/np.sum(cnf_matrix)"
   ]
  },
  {
   "cell_type": "code",
   "execution_count": 140,
   "metadata": {},
   "outputs": [
    {
     "data": {
      "text/plain": [
       "[Text(25.5, 0.5, 'actual'),\n",
       " Text(0.5, 7.5, 'predicted'),\n",
       " Text(0.5, 1, 'Heatmap of rf classification')]"
      ]
     },
     "execution_count": 140,
     "metadata": {},
     "output_type": "execute_result"
    },
    {
     "data": {
      "image/png": "[encoded data removed]",
      "text/plain": [
       "<Figure size 432x288 with 2 Axes>"
      ]
     },
     "metadata": {},
     "output_type": "display_data"
    }
   ],
   "source": [
    "df_cm = pd.DataFrame(cnf_matrix_percentages, range(2),\n",
    "                  range(2))\n",
    "#plt.figure(figsize = (10,7))\n",
    "sns.set(font_scale=1.4)#for label size\n",
    "ax = sns.heatmap(df_cm, annot=True,annot_kws={\"size\": 16})\n",
    "ax.set(xlabel='predicted', ylabel='actual', title = \"Heatmap of rf classification\")\n"
   ]
  },
  {
   "cell_type": "code",
   "execution_count": 141,
   "metadata": {},
   "outputs": [
    {
     "data": {
      "text/plain": [
       "{'precision': 0.05737988247493951, 'recall': 0.5123456790123457}"
      ]
     },
     "execution_count": 141,
     "metadata": {},
     "output_type": "execute_result"
    }
   ],
   "source": [
    "results(cnf_matrix)"
   ]
  },
  {
   "cell_type": "markdown",
   "metadata": {},
   "source": [
    "# Analysis"
   ]
  },
  {
   "cell_type": "markdown",
   "metadata": {},
   "source": [
    "I felt that number of up_votes was the best prediction task, as often one might be interested in how many views a video will get before it is posted. I focused specifically on using text features to predict this, and categorized videos into videos with a low view count <1000 views, and a high view count >1000 views.\n",
    "\n",
    "Originally, I attempted random forest and logistic regression with tfidf, which seemed to only predict that the video would fall into the \"small video category\", meaning very high accuracy but no ability to predict a video in the \"large view count category\". \n",
    "\n",
    "I then tried upsampling and downsampling,which seem to affect the classification almost equally, with equal ratios of\n",
    "all 4 categories of predictions(False Positive, False Negative etc.). \n",
    "With both, we achieved a precision of about .38, and a recall of about .038.\n",
    "\n",
    "I then tried random forest on the upsampled data. This gets the benefit of a in general better model for classification,\n",
    "as well as a better ratio of classes. Here, I found that we had a precision of about .06, and a recall of about .50.\n",
    "\n",
    "Random forest induced a tradeoff of precision for recall. More relevant items were selected, but less selected items are relevant. If I were a sponsor predicting which video will \"go big\" I would go with the random forest model as I'm willing to take the fact that many videos will not go big that I predict to go big, but overall I will find more \"big videos\" than before.\n",
    "\n",
    "As a note I had an untraditional train/test split. Since the class imbalance was huge, I both up and down sampled the minority and majority classes. Downsampling made it so that the number of test values was greater than the number of train values, so for that case specifically, I made the train/test split high so that I would have a greater amount of minority class values in my train set. For the upsampling case, there was no need to do this.\n",
    "\n",
    "Adding datetime data might boost results further. In addition, smote resampling may increase my precision and recall."
   ]
  },
  {
   "cell_type": "code",
   "execution_count": null,
   "metadata": {},
   "outputs": [],
   "source": []
  }
 ],
 "metadata": {
  "kernelspec": {
   "display_name": "Python 3",
   "language": "python",
   "name": "python3"
  },
  "language_info": {
   "codemirror_mode": {
    "name": "ipython",
    "version": 3
   },
   "file_extension": ".py",
   "mimetype": "text/x-python",
   "name": "python",
   "nbconvert_exporter": "python",
   "pygments_lexer": "ipython3",
   "version": "3.7.3"
  }
 },
 "nbformat": 4,
 "nbformat_minor": 2
}
